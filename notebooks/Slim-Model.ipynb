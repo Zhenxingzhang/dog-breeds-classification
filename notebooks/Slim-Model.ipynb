{
 "cells": [
  {
   "cell_type": "code",
   "execution_count": null,
   "metadata": {},
   "outputs": [],
   "source": [
    "import tensorflow as tf\n",
    "import argparse\n",
    "import numpy as np\n",
    "import sys\n",
    "sys.path.append(\"/data/slim/models/research/slim/\")\n",
    "from nets import nets_factory\n",
    "import matplotlib.pyplot as plt\n",
    "%matplotlib inline  \n",
    "\n",
    "sys.path.append(\"../\")\n",
    "from src.data_preparation import dataset\n",
    "\n",
    "slim = tf.contrib.slim\n",
    "PRETAIN_MODEL = \"inception_v1\"\n",
    "num_classes = 120\n",
    "WIDTH = 224\n",
    "INPUT_WIDTH= 224\n",
    "CHANNEL = 3\n",
    "\n",
    "TRAIN_TF_RECORDS = \"/data/dog_breeds/stanford_ds/train/train.tfrecord\"\n",
    "TRAIN_BATCH_SIZE = 10"
   ]
  },
  {
   "cell_type": "code",
   "execution_count": null,
   "metadata": {},
   "outputs": [],
   "source": [
    "with tf.Graph().as_default(), tf.Session() as sess:\n",
    "    # First create the dataset and load one batch\n",
    "    images_raw, images, labels = dataset.load_batch(\n",
    "        TRAIN_TF_RECORDS,\n",
    "        TRAIN_BATCH_SIZE,\n",
    "        INPUT_WIDTH,\n",
    "        INPUT_WIDTH,\n",
    "        is_training=False,\n",
    "        num_epochs=1)\n",
    "#     images = tf.cast(images * 255, tf.uint8)\n",
    "    sess.run(tf.local_variables_initializer())\n",
    "    \n",
    "    with slim.queues.QueueRunners(sess):\n",
    "        image_raw_batch, image_batch = sess.run([images_raw, images])\n",
    "        print(image_batch.max(), image_batch.min())\n",
    "\n",
    "#     print(image_batch[0])   \n",
    "    image_precessed_batch = (image_batch * 127 + 127).astype(np.uint8)\n",
    "#     print(image_precessed_batch[0])\n",
    "    print(image_precessed_batch.max(), image_precessed_batch.min())\n",
    "    plt.imshow(image_precessed_batch[0])\n",
    "    plt.show()\n",
    "\n",
    "    plt.imshow(image_raw_batch[0, :].astype(np.uint8))\n",
    "    plt.show()\n"
   ]
  },
  {
   "cell_type": "code",
   "execution_count": null,
   "metadata": {},
   "outputs": [],
   "source": [
    "with tf.Graph().as_default(), tf.Session() as sess:\n",
    "    x_input = tf.placeholder(tf.float32, [None, WIDTH, HEIGHT, CHANNEL])\n",
    "    label = tf.placeholder(tf.int64)\n",
    "    \n",
    "    net_fn = nets_factory.get_network_fn(\n",
    "            PRETAIN_MODEL,\n",
    "            num_classes,\n",
    "            is_training=False)\n",
    "    \n",
    "    logits, end_points = net_fn(x_input)\n",
    "    predictions = end_points['Predictions']\n",
    "    \n",
    "    sess.run(tf.global_variables_initializer())\n",
    "\n",
    "    loss = tf.nn.sparse_softmax_cross_entropy_with_logits(labels=label, logits=logits)\n",
    "    \n",
    "    x = np.ones([1, HEIGHT, WIDTH, CHANNEL])\n",
    "    loss_, logits_ = sess.run([loss, logits], {x_input: x, label: [1]})\n",
    "    print(\"{}, {}\".format(loss_, logits_))"
   ]
  },
  {
   "cell_type": "code",
   "execution_count": null,
   "metadata": {},
   "outputs": [],
   "source": []
  }
 ],
 "metadata": {
  "kernelspec": {
   "display_name": "Python 2",
   "language": "python",
   "name": "python2"
  },
  "language_info": {
   "codemirror_mode": {
    "name": "ipython",
    "version": 2
   },
   "file_extension": ".py",
   "mimetype": "text/x-python",
   "name": "python",
   "nbconvert_exporter": "python",
   "pygments_lexer": "ipython2",
   "version": "2.7.10"
  }
 },
 "nbformat": 4,
 "nbformat_minor": 2
}
